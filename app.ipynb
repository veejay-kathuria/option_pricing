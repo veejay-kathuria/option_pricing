{
 "cells": [
  {
   "cell_type": "code",
   "execution_count": 28,
   "id": "e4fc9765-4819-4281-8beb-c8ac5100755f",
   "metadata": {},
   "outputs": [
    {
     "name": "stdout",
     "output_type": "stream",
     "text": [
      "Requirement already satisfied: yfinance in c:\\users\\vsk\\anaconda3\\lib\\site-packages (0.2.40)\n",
      "Requirement already satisfied: numpy in c:\\users\\vsk\\anaconda3\\lib\\site-packages (1.26.4)\n",
      "Requirement already satisfied: scipy in c:\\users\\vsk\\anaconda3\\lib\\site-packages (1.11.4)\n",
      "Requirement already satisfied: pandas in c:\\users\\vsk\\anaconda3\\lib\\site-packages (2.1.4)\n",
      "Requirement already satisfied: matplotlib in c:\\users\\vsk\\anaconda3\\lib\\site-packages (3.8.0)\n",
      "Requirement already satisfied: jinja2 in c:\\users\\vsk\\anaconda3\\lib\\site-packages (3.1.3)\n",
      "Requirement already satisfied: requests>=2.31 in c:\\users\\vsk\\anaconda3\\lib\\site-packages (from yfinance) (2.31.0)\n",
      "Requirement already satisfied: multitasking>=0.0.7 in c:\\users\\vsk\\anaconda3\\lib\\site-packages (from yfinance) (0.0.11)\n",
      "Requirement already satisfied: lxml>=4.9.1 in c:\\users\\vsk\\anaconda3\\lib\\site-packages (from yfinance) (4.9.3)\n",
      "Requirement already satisfied: platformdirs>=2.0.0 in c:\\users\\vsk\\anaconda3\\lib\\site-packages (from yfinance) (3.10.0)\n",
      "Requirement already satisfied: pytz>=2022.5 in c:\\users\\vsk\\anaconda3\\lib\\site-packages (from yfinance) (2023.3.post1)\n",
      "Requirement already satisfied: frozendict>=2.3.4 in c:\\users\\vsk\\anaconda3\\lib\\site-packages (from yfinance) (2.4.4)\n",
      "Requirement already satisfied: peewee>=3.16.2 in c:\\users\\vsk\\anaconda3\\lib\\site-packages (from yfinance) (3.17.5)\n",
      "Requirement already satisfied: beautifulsoup4>=4.11.1 in c:\\users\\vsk\\anaconda3\\lib\\site-packages (from yfinance) (4.12.2)\n",
      "Requirement already satisfied: html5lib>=1.1 in c:\\users\\vsk\\anaconda3\\lib\\site-packages (from yfinance) (1.1)\n",
      "Requirement already satisfied: python-dateutil>=2.8.2 in c:\\users\\vsk\\anaconda3\\lib\\site-packages (from pandas) (2.8.2)\n",
      "Requirement already satisfied: tzdata>=2022.1 in c:\\users\\vsk\\anaconda3\\lib\\site-packages (from pandas) (2023.3)\n",
      "Requirement already satisfied: contourpy>=1.0.1 in c:\\users\\vsk\\anaconda3\\lib\\site-packages (from matplotlib) (1.2.0)\n",
      "Requirement already satisfied: cycler>=0.10 in c:\\users\\vsk\\anaconda3\\lib\\site-packages (from matplotlib) (0.11.0)\n",
      "Requirement already satisfied: fonttools>=4.22.0 in c:\\users\\vsk\\anaconda3\\lib\\site-packages (from matplotlib) (4.25.0)\n",
      "Requirement already satisfied: kiwisolver>=1.0.1 in c:\\users\\vsk\\anaconda3\\lib\\site-packages (from matplotlib) (1.4.4)\n",
      "Requirement already satisfied: packaging>=20.0 in c:\\users\\vsk\\anaconda3\\lib\\site-packages (from matplotlib) (23.1)\n",
      "Requirement already satisfied: pillow>=6.2.0 in c:\\users\\vsk\\anaconda3\\lib\\site-packages (from matplotlib) (10.2.0)\n",
      "Requirement already satisfied: pyparsing>=2.3.1 in c:\\users\\vsk\\anaconda3\\lib\\site-packages (from matplotlib) (3.0.9)\n",
      "Requirement already satisfied: MarkupSafe>=2.0 in c:\\users\\vsk\\anaconda3\\lib\\site-packages (from jinja2) (2.1.3)\n",
      "Requirement already satisfied: soupsieve>1.2 in c:\\users\\vsk\\anaconda3\\lib\\site-packages (from beautifulsoup4>=4.11.1->yfinance) (2.5)\n",
      "Requirement already satisfied: six>=1.9 in c:\\users\\vsk\\anaconda3\\lib\\site-packages (from html5lib>=1.1->yfinance) (1.16.0)\n",
      "Requirement already satisfied: webencodings in c:\\users\\vsk\\anaconda3\\lib\\site-packages (from html5lib>=1.1->yfinance) (0.5.1)\n",
      "Requirement already satisfied: charset-normalizer<4,>=2 in c:\\users\\vsk\\anaconda3\\lib\\site-packages (from requests>=2.31->yfinance) (2.0.4)\n",
      "Requirement already satisfied: idna<4,>=2.5 in c:\\users\\vsk\\anaconda3\\lib\\site-packages (from requests>=2.31->yfinance) (3.4)\n",
      "Requirement already satisfied: urllib3<3,>=1.21.1 in c:\\users\\vsk\\anaconda3\\lib\\site-packages (from requests>=2.31->yfinance) (2.0.7)\n",
      "Requirement already satisfied: certifi>=2017.4.17 in c:\\users\\vsk\\anaconda3\\lib\\site-packages (from requests>=2.31->yfinance) (2024.2.2)\n",
      "Note: you may need to restart the kernel to use updated packages.\n"
     ]
    }
   ],
   "source": [
    "pip install yfinance numpy scipy pandas matplotlib jinja2"
   ]
  },
  {
   "cell_type": "code",
   "execution_count": 1,
   "id": "ab4c4e9e-34f1-4c07-8c63-f75b9dc5b3a1",
   "metadata": {},
   "outputs": [],
   "source": [
    "from flask import Flask, render_template, request\n",
    "import yfinance as yf\n",
    "import numpy as np\n",
    "import pandas as pd\n",
    "from scipy.stats import norm"
   ]
  },
  {
   "cell_type": "code",
   "execution_count": 2,
   "id": "8784225b-62ae-41f8-870f-a6b909de3d2f",
   "metadata": {},
   "outputs": [],
   "source": [
    "app = Flask(__name__)"
   ]
  },
  {
   "cell_type": "code",
   "execution_count": 3,
   "id": "8562a8d8-a546-47f3-a150-26dbd3639280",
   "metadata": {},
   "outputs": [],
   "source": [
    "def get_stock_data(ticker):\n",
    "    stock = yf.Ticker(ticker)\n",
    "    data = stock.history(period=\"1d\")\n",
    "    return stock, data\n",
    "\n",
    "def get_user_input():\n",
    "    ticker = input(\"Enter the ticker of the stock: \").upper()\n",
    "    expiry = input(\"Enter the expiry date (YYYY-MM-DD): \")\n",
    "    strike_price = float(input(\"Enter the strike price: \"))\n",
    "    return ticker, expiry, strike_price\n"
   ]
  },
  {
   "cell_type": "code",
   "execution_count": 4,
   "id": "20bfa292-2de5-4494-99f7-cf92336840e1",
   "metadata": {},
   "outputs": [],
   "source": [
    "def black_scholes(S, K, T, r, sigma, option_type=\"call\"):\n",
    "    d1 = (np.log(S / K) + (r + 0.5 * sigma ** 2) * T) / (sigma * np.sqrt(T))\n",
    "    d2 = d1 - sigma * np.sqrt(T)\n",
    "    \n",
    "    if option_type == \"call\":\n",
    "        price = S * norm.cdf(d1) - K * np.exp(-r * T) * norm.cdf(d2)\n",
    "    else:  # put option\n",
    "        price = K * np.exp(-r * T) * norm.cdf(-d2) - S * norm.cdf(-d1)\n",
    "        \n",
    "    return price"
   ]
  },
  {
   "cell_type": "code",
   "execution_count": 5,
   "id": "e10af987-ec7a-45e3-bbd1-54032c79c3ba",
   "metadata": {},
   "outputs": [],
   "source": [
    "def binomial_tree(S, K, T, r, sigma, steps, option_type=\"call\"):\n",
    "    # Calculate the time increment\n",
    "    dt = T / steps\n",
    "    # Calculate the up and down factors\n",
    "    u = np.exp(sigma * np.sqrt(dt))\n",
    "    d = 1 / u\n",
    "    # Calculate the risk-neutral probability\n",
    "    p = (np.exp(r * dt) - d) / (u - d)\n",
    "    \n",
    "    # Initialize the stock price tree and option price tree\n",
    "    stock_tree = np.zeros((steps + 1, steps + 1))\n",
    "    option_tree = np.zeros((steps + 1, steps + 1))\n",
    "    \n",
    "    # Stock prices at maturity\n",
    "    for i in range(steps + 1):\n",
    "        stock_tree[i, steps] = S * (u ** (steps - i)) * (d ** i)\n",
    "    \n",
    "    # Option value at maturity\n",
    "    for i in range(steps + 1):\n",
    "        if option_type == \"call\":\n",
    "            option_tree[i, steps] = max(0, stock_tree[i, steps] - K)\n",
    "        elif option_type == \"put\":\n",
    "            option_tree[i, steps] = max(0, K - stock_tree[i, steps])\n",
    "    \n",
    "    # Backward induction to calculate the option price at each node\n",
    "    for j in range(steps - 1, -1, -1):\n",
    "        for i in range(j + 1):\n",
    "            option_tree[i, j] = np.exp(-r * dt) * (p * option_tree[i, j + 1] + (1 - p) * option_tree[i + 1, j + 1])\n",
    "    \n",
    "    return option_tree[0, 0], stock_tree, option_tree"
   ]
  },
  {
   "cell_type": "code",
   "execution_count": 6,
   "id": "f03d92ec-af02-436a-bdfd-95ea7b2ad146",
   "metadata": {},
   "outputs": [],
   "source": [
    "@app.route('/', methods=['GET', 'POST'])\n",
    "def index():\n",
    "    bs_price = None\n",
    "    bt_price = None\n",
    "    \n",
    "    if request.method == 'POST':\n",
    "        ticker = request.form['ticker'].upper()\n",
    "        expiry = request.form['expiry']\n",
    "        strike_price = float(request.form['strike_price'])\n",
    "        steps = int(request.form['steps'])\n",
    "        \n",
    "        stock = yf.Ticker(ticker)\n",
    "        data = stock.history(period=\"1d\")\n",
    "        S = data['Close'][0]\n",
    "        r = 0.01  # risk-free rate\n",
    "        \n",
    "        # Ensure both dates are timezone-naive\n",
    "        expiry_date = pd.to_datetime(expiry).date()\n",
    "        current_date = pd.to_datetime(data.index[0]).date()\n",
    "        \n",
    "        T = (expiry_date - current_date).days / 365.0\n",
    "        sigma = stock.history(period=\"1y\")['Close'].pct_change().std() * np.sqrt(252)\n",
    "        \n",
    "        bt_price, stock_tree, option_tree = binomial_tree_complete(S, strike_price, T, r, sigma, steps, option_type=\"call\")\n",
    "        \n",
    "        return render_template('index.html', bt_price=bt_price, stock_tree=stock_tree, option_tree=option_tree)\n",
    "    return render_template('index.html')"
   ]
  },
  {
   "cell_type": "code",
   "execution_count": null,
   "id": "57f900c0-96d4-485e-9db1-713c40d8a0af",
   "metadata": {},
   "outputs": [
    {
     "name": "stdout",
     "output_type": "stream",
     "text": [
      " * Serving Flask app '__main__'\n",
      " * Debug mode: off\n"
     ]
    },
    {
     "name": "stderr",
     "output_type": "stream",
     "text": [
      "WARNING: This is a development server. Do not use it in a production deployment. Use a production WSGI server instead.\n",
      " * Running on http://127.0.0.1:5000\n",
      "Press CTRL+C to quit\n",
      "127.0.0.1 - - [31/Aug/2024 11:48:12] \"GET / HTTP/1.1\" 200 -\n",
      "C:\\Users\\VSK\\AppData\\Local\\Temp\\ipykernel_19748\\976147001.py:14: FutureWarning: Series.__getitem__ treating keys as positions is deprecated. In a future version, integer keys will always be treated as labels (consistent with DataFrame behavior). To access a value by position, use `ser.iloc[pos]`\n",
      "  S = data['Close'][0]\n",
      "[2024-08-31 11:48:37,625] ERROR in app: Exception on / [POST]\n",
      "Traceback (most recent call last):\n",
      "  File \"C:\\Users\\VSK\\anaconda3\\Lib\\site-packages\\flask\\app.py\", line 2529, in wsgi_app\n",
      "    response = self.full_dispatch_request()\n",
      "               ^^^^^^^^^^^^^^^^^^^^^^^^^^^^\n",
      "  File \"C:\\Users\\VSK\\anaconda3\\Lib\\site-packages\\flask\\app.py\", line 1825, in full_dispatch_request\n",
      "    rv = self.handle_user_exception(e)\n",
      "         ^^^^^^^^^^^^^^^^^^^^^^^^^^^^^\n",
      "  File \"C:\\Users\\VSK\\anaconda3\\Lib\\site-packages\\flask\\app.py\", line 1823, in full_dispatch_request\n",
      "    rv = self.dispatch_request()\n",
      "         ^^^^^^^^^^^^^^^^^^^^^^^\n",
      "  File \"C:\\Users\\VSK\\anaconda3\\Lib\\site-packages\\flask\\app.py\", line 1799, in dispatch_request\n",
      "    return self.ensure_sync(self.view_functions[rule.endpoint])(**view_args)\n",
      "           ^^^^^^^^^^^^^^^^^^^^^^^^^^^^^^^^^^^^^^^^^^^^^^^^^^^^^^^^^^^^^^^^^\n",
      "  File \"C:\\Users\\VSK\\AppData\\Local\\Temp\\ipykernel_19748\\976147001.py\", line 24, in index\n",
      "    bt_price, stock_tree, option_tree = binomial_tree_complete(S, strike_price, T, r, sigma, steps, option_type=\"call\")\n",
      "                                        ^^^^^^^^^^^^^^^^^^^^^^\n",
      "NameError: name 'binomial_tree_complete' is not defined\n",
      "127.0.0.1 - - [31/Aug/2024 11:48:37] \"POST / HTTP/1.1\" 500 -\n"
     ]
    }
   ],
   "source": [
    "if __name__ == '__main__':\n",
    "    app.run(use_reloader=False)"
   ]
  },
  {
   "cell_type": "code",
   "execution_count": null,
   "id": "6022447f-e6d9-45d2-b6b9-c12bd72c2c13",
   "metadata": {},
   "outputs": [],
   "source": []
  }
 ],
 "metadata": {
  "kernelspec": {
   "display_name": "Python 3 (ipykernel)",
   "language": "python",
   "name": "python3"
  },
  "language_info": {
   "codemirror_mode": {
    "name": "ipython",
    "version": 3
   },
   "file_extension": ".py",
   "mimetype": "text/x-python",
   "name": "python",
   "nbconvert_exporter": "python",
   "pygments_lexer": "ipython3",
   "version": "3.11.7"
  }
 },
 "nbformat": 4,
 "nbformat_minor": 5
}
